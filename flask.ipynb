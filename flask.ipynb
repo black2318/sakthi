{
 "cells": [
  {
   "cell_type": "code",
   "execution_count": null,
   "id": "8d404a69",
   "metadata": {},
   "outputs": [],
   "source": [
    "from flask import Flask,make_response, render_template\n",
    "import io\n",
    "from io import StringIO\n",
    "import pandas as pd \n",
    "import numpy as np\n",
    "import pickle\n",
    "from sklearn.preprocessing import StandardScaler\n",
    "from sklearn.linear_model import LogisticRegression\n",
    "\n",
    "app=Flask(__name__)\n",
    "def feature_engineering(df):\n",
    "     df.columns=['AverageRainingDays','clonesize','AverageOfLowerTRange',\n",
    "               'AverageOfUpperTRange','honeybee','osmia','bumbles','andrena']\n",
    "def scaler(df):\n",
    "    sc=standardScaler()\n",
    "    x=df[['AverageRainingDays','clonesize','AverageOfLowerTRange',\n",
    "               'AverageOfUpperTRange','honeybee','osmia','bumbles','andrena']]\n",
    "    x=sc.fit_transform(x)\n",
    "    return(x)\n",
    "@app.route('/',methods=['get'])\n",
    "def Home():\n",
    "    return render_template('index.html')\n",
    "@app.route('/predict',methods=['POST'])\n",
    "def predict():\n",
    "    f=request.files['data_file']\n",
    "    if not f:\n",
    "        return render_template('index.html',prediction_text=\"No file selected\")\n",
    "    stream = io.StringIO(f.stream,read().decode(\"UTF8\"),newline=None)\n",
    "    result=stream.read()\n",
    "    df=pd.read_csv(StrimgIO(result))\n",
    "    \n",
    "    df=feature_engineerimg(df)\n",
    "    \n",
    "    x=scalar(df)\n",
    "    \n",
    "    loaded_model=pickle.load(open(\"linear_model.pkl\",'rb'))\n",
    "    \n",
    "    print (loaded_model)\n",
    "    \n",
    "    result=loaded_model.predict(x)\n",
    "    \n",
    "    return render_template('index.html',prediction_text =\"predicted crop yield is/are:{}\".format(result))\n",
    "if __name__==\"__main__\":\n",
    "    app.run(debug = False,port=9000)"
   ]
  },
  {
   "cell_type": "code",
   "execution_count": null,
   "id": "019c3946",
   "metadata": {},
   "outputs": [],
   "source": []
  }
 ],
 "metadata": {
  "kernelspec": {
   "display_name": "Python 3 (ipykernel)",
   "language": "python",
   "name": "python3"
  },
  "language_info": {
   "codemirror_mode": {
    "name": "ipython",
    "version": 3
   },
   "file_extension": ".py",
   "mimetype": "text/x-python",
   "name": "python",
   "nbconvert_exporter": "python",
   "pygments_lexer": "ipython3",
   "version": "3.11.5"
  }
 },
 "nbformat": 4,
 "nbformat_minor": 5
}
